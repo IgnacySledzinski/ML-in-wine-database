{
 "cells": [
  {
   "cell_type": "code",
   "execution_count": null,
   "metadata": {},
   "outputs": [],
   "source": [
    "import numpy as np\n",
    "import scipy.stats as st\n",
    "import pandas as pd\n",
    "import seaborn as sns\n",
    "import matplotlib.pyplot as plt\n",
    "import plotly.express as px\n",
    "import missingno\n",
    "import datetime as dt\n",
    "from sklearn.preprocessing import OneHotEncoder\n",
    "from sklearn.preprocessing import OrdinalEncoder\n",
    "from sklearn.model_selection import train_test_split\n",
    "from sklearn.preprocessing import StandardScaler\n",
    "from sklearn.ensemble import RandomForestRegressor\n",
    "from sklearn.linear_model import LinearRegression\n",
    "from xgboost import XGBRegressor\n",
    "from sklearn.metrics import mean_absolute_error,mean_squared_error,mean_absolute_percentage_error\n",
    "from sklearn.model_selection import cross_val_score\n",
    "from sklearn.metrics import r2_score\n",
    "from sklearn.model_selection import GridSearchCV"
   ]
  },
  {
   "cell_type": "code",
   "execution_count": null,
   "metadata": {},
   "outputs": [],
   "source": [
    "df = pd.read_csv('winequality-red.csv')"
   ]
  },
  {
   "cell_type": "markdown",
   "metadata": {},
   "source": [
    "EDA"
   ]
  },
  {
   "cell_type": "code",
   "execution_count": null,
   "metadata": {},
   "outputs": [],
   "source": [
    "df.info()"
   ]
  },
  {
   "cell_type": "code",
   "execution_count": null,
   "metadata": {},
   "outputs": [],
   "source": [
    "df.head()"
   ]
  },
  {
   "cell_type": "code",
   "execution_count": null,
   "metadata": {},
   "outputs": [],
   "source": [
    "#Show me columns\n",
    "df.columns"
   ]
  },
  {
   "cell_type": "code",
   "execution_count": null,
   "metadata": {},
   "outputs": [],
   "source": [
    "#Data types\n",
    "data_counts = df.dtypes.value_counts()\n",
    "data_counts.index = data_counts.index.astype(str)\n",
    "# Making plot\n",
    "plt.title(\"Data types in dataset\")\n",
    "plt.pie(data_counts.values, labels=data_counts.index, autopct='%1.1f%%', startangle=90)\n",
    "plt.axis('equal')\n",
    "plt.show()"
   ]
  },
  {
   "cell_type": "code",
   "execution_count": null,
   "metadata": {},
   "outputs": [],
   "source": [
    "#Checking dataset \n",
    "df.isnull().sum()"
   ]
  },
  {
   "cell_type": "code",
   "execution_count": null,
   "metadata": {},
   "outputs": [],
   "source": [
    "df.describe()"
   ]
  },
  {
   "cell_type": "code",
   "execution_count": null,
   "metadata": {},
   "outputs": [],
   "source": [
    "#Checking duplicates\n",
    "df.duplicated().sum()"
   ]
  },
  {
   "cell_type": "code",
   "execution_count": null,
   "metadata": {},
   "outputs": [],
   "source": [
    "#Delete duplicates\n",
    "df.loc[df.duplicated()]\n",
    "df = df.drop_duplicates()"
   ]
  },
  {
   "cell_type": "code",
   "execution_count": null,
   "metadata": {},
   "outputs": [],
   "source": [
    "#Plot of everything \n",
    "fig, axes = plt.subplots(nrows=4, ncols=3, figsize=(12, 10))\n",
    "plt.subplots_adjust(hspace=0.5)\n",
    "\n",
    "for i, column in enumerate(df.columns):\n",
    "    ax = axes[i // 3, i % 3]\n",
    "    ax.hist(df[column], bins=10)\n",
    "    ax.set_title(column)\n",
    "    ax.set_xlabel('What')\n",
    "    ax.set_ylabel('How many')\n",
    "\n",
    "plt.show()"
   ]
  },
  {
   "cell_type": "code",
   "execution_count": null,
   "metadata": {},
   "outputs": [],
   "source": [
    "df.info()"
   ]
  },
  {
   "cell_type": "code",
   "execution_count": null,
   "metadata": {},
   "outputs": [],
   "source": [
    "df.head()"
   ]
  },
  {
   "cell_type": "code",
   "execution_count": null,
   "metadata": {},
   "outputs": [],
   "source": [
    "#Checkign ph of wine \n",
    "df['pH']"
   ]
  },
  {
   "cell_type": "code",
   "execution_count": null,
   "metadata": {},
   "outputs": [],
   "source": [
    "#What ph are in dataset\n",
    "df['pH'].unique()"
   ]
  },
  {
   "cell_type": "code",
   "execution_count": null,
   "metadata": {},
   "outputs": [],
   "source": [
    "pH=df['pH'].value_counts().head(30)"
   ]
  },
  {
   "cell_type": "code",
   "execution_count": null,
   "metadata": {},
   "outputs": [],
   "source": [
    "pH=df['pH'].value_counts().head(30)"
   ]
  },
  {
   "cell_type": "code",
   "execution_count": null,
   "metadata": {},
   "outputs": [],
   "source": [
    "plt.figure(figsize=(20,6))\n",
    "plt.tight_layout(pad=3)\n",
    "plt.title(\"PH of wine\",fontsize=15)\n",
    "a=sns.barplot(x=pH.index,y=pH)\n",
    "a.set_xticklabels(pH.index ,rotation=90)\n",
    "a.set(xlabel='PH of wine', ylabel='Bottles of wine')\n",
    "plt.show()"
   ]
  },
  {
   "cell_type": "code",
   "execution_count": null,
   "metadata": {},
   "outputs": [],
   "source": [
    "#Wine quality\n",
    "df['quality'].unique()"
   ]
  },
  {
   "cell_type": "code",
   "execution_count": null,
   "metadata": {},
   "outputs": [],
   "source": [
    "#Wine quality plot\n",
    "quality=df['quality'].value_counts()\n",
    "plt.figure(figsize=(20,6))\n",
    "plt.tight_layout(pad=3)\n",
    "plt.title(\"Quality of wine\",fontsize=15)\n",
    "a=sns.barplot(x=quality.index,y=quality)\n",
    "a.set_xticklabels(quality.index)\n",
    "a.set(xlabel='Quality of wine', ylabel='Bottles of wine')\n",
    "plt.show()"
   ]
  },
  {
   "cell_type": "code",
   "execution_count": null,
   "metadata": {},
   "outputs": [],
   "source": [
    "#Checking % of alc in wine\n",
    "df[\"alcohol\"].unique()"
   ]
  },
  {
   "cell_type": "code",
   "execution_count": null,
   "metadata": {},
   "outputs": [],
   "source": [
    "alcohol=df['alcohol'].value_counts().head(40)\n",
    "plt.figure(figsize=(20,6))\n",
    "plt.tight_layout(pad=3)\n",
    "plt.title(\"percent of alcohol\",fontsize=15)\n",
    "a=sns.barplot(x=alcohol.index,y=alcohol)\n",
    "a.set_xticklabels(alcohol.index)\n",
    "a.set(xlabel='percent of alcohol', ylabel='Bottles of wine')\n",
    "plt.set_cmap('cool')\n",
    "plt.show()"
   ]
  },
  {
   "cell_type": "code",
   "execution_count": null,
   "metadata": {},
   "outputs": [],
   "source": [
    "#Residual sugar in wine\n",
    "df[\"residual sugar\"].unique()"
   ]
  },
  {
   "cell_type": "code",
   "execution_count": null,
   "metadata": {},
   "outputs": [],
   "source": [
    "A111=df['residual sugar'].value_counts().head(40)\n",
    "plt.figure(figsize=(30,6))\n",
    "plt.tight_layout(pad=3)\n",
    "plt.title(\"residual sugar in wine\",fontsize=15)\n",
    "a=sns.barplot(x=A111.index,y=A111)\n",
    "a.set_xticklabels(A111.index)\n",
    "a.set(xlabel='g of sugar', ylabel='Bottles of wine')\n",
    "plt.show()"
   ]
  },
  {
   "cell_type": "code",
   "execution_count": null,
   "metadata": {},
   "outputs": [],
   "source": [
    "#Wine acidity\n",
    "df[\"fixed acidity\"].unique()"
   ]
  },
  {
   "cell_type": "code",
   "execution_count": null,
   "metadata": {},
   "outputs": [],
   "source": [
    "A111=df['fixed acidity'].value_counts().head(40)\n",
    "plt.figure(figsize=(20,6))\n",
    "plt.tight_layout(pad=3)\n",
    "plt.title(\"Wine acidity\",fontsize=15)\n",
    "a=sns.barplot(x=A111.index,y=A111)\n",
    "a.set_xticklabels(A111.index)\n",
    "a.set(xlabel='Acidity g/l', ylabel='Bottles of wine')\n",
    "plt.show()"
   ]
  },
  {
   "cell_type": "code",
   "execution_count": null,
   "metadata": {},
   "outputs": [],
   "source": [
    "#Chlorides\n",
    "df[\"chlorides\"].unique()"
   ]
  },
  {
   "cell_type": "code",
   "execution_count": null,
   "metadata": {},
   "outputs": [],
   "source": [
    "A111=df['chlorides'].value_counts().head(20)\n",
    "plt.figure(figsize=(25,6))\n",
    "plt.tight_layout(pad=3)\n",
    "plt.title(\"Chlorides in wine \",fontsize=10)\n",
    "a=sns.barplot(x=A111.index,y=A111)\n",
    "a.set_xticklabels(A111.index)\n",
    "a.set(xlabel='Chlorides', ylabel='Bottles of wine')\n",
    "plt.show()"
   ]
  },
  {
   "cell_type": "code",
   "execution_count": null,
   "metadata": {},
   "outputs": [],
   "source": [
    "df.info()"
   ]
  },
  {
   "cell_type": "code",
   "execution_count": null,
   "metadata": {},
   "outputs": [],
   "source": [
    "#Wine density\n",
    "df[\"density\"].unique()"
   ]
  },
  {
   "cell_type": "code",
   "execution_count": null,
   "metadata": {},
   "outputs": [],
   "source": [
    "A111=df['density'].value_counts().head(30)\n",
    "plt.figure(figsize=(25,6))\n",
    "plt.tight_layout(pad=3)\n",
    "plt.title(\"Wine density \",fontsize=10)\n",
    "a=sns.barplot(x=A111.index,y=A111)\n",
    "a.set_xticklabels(A111.index)\n",
    "a.set(xlabel='Density', ylabel='Bottles of wine')\n",
    "plt.show()"
   ]
  },
  {
   "cell_type": "code",
   "execution_count": null,
   "metadata": {},
   "outputs": [],
   "source": [
    "#Sulphates\n",
    "df[\"sulphates\"].unique()"
   ]
  },
  {
   "cell_type": "code",
   "execution_count": null,
   "metadata": {},
   "outputs": [],
   "source": [
    "A111=df['sulphates'].value_counts().head(40)\n",
    "plt.figure(figsize=(25,6))\n",
    "plt.tight_layout(pad=3)\n",
    "plt.title(\"Wine sulphates\",fontsize=10)\n",
    "a=sns.barplot(x=A111.index,y=A111)\n",
    "a.set_xticklabels(A111.index)\n",
    "a.set(xlabel='Sulphates', ylabel='Bottles of wine')\n",
    "plt.show()"
   ]
  },
  {
   "cell_type": "markdown",
   "metadata": {},
   "source": [
    "Machine Learning"
   ]
  },
  {
   "cell_type": "code",
   "execution_count": null,
   "metadata": {},
   "outputs": [],
   "source": [
    "#X train and x test\n",
    "X_train = df['citric acid'][-1000:].values.reshape(-1, 1)\n",
    "X_test = df['citric acid'][:-1000].values.reshape(-1, 1)\n",
    "\n",
    "# Y train and y test \n",
    "y_train = df[\"fixed acidity\"][-1000:].values.reshape(-1, 1)\n",
    "y_test = df[\"fixed acidity\"][:-1000].values.reshape(-1, 1)\n"
   ]
  },
  {
   "cell_type": "code",
   "execution_count": null,
   "metadata": {},
   "outputs": [],
   "source": [
    "#Ml\n",
    "clf = LinearRegression().fit(X_train, y_train)\n",
    "# Predicton with test \n",
    "y_pred = clf.predict(X_test)\n",
    "# Coefficient\n",
    "print(\"Coefficients: \", clf.coef_[0][0])\n",
    "#Mean squared error\n",
    "print(\"Mean squared error: %.2f\" % mean_squared_error(y_test, y_pred))\n",
    "# The coefficient of determination: 1 is perfect prediction\n",
    "print(\"R squared: %.2f\" % r2_score(y_test, y_pred))\n",
    "\n",
    "#And what we have\n",
    "plt.scatter(X_test, y_test, color=\"black\")\n",
    "plt.plot(X_test,y_pred, color=\"blue\", linewidth=3)\n",
    "\n",
    "plt.xticks(())\n",
    "plt.yticks(())\n",
    "\n",
    "plt.show()"
   ]
  },
  {
   "cell_type": "code",
   "execution_count": null,
   "metadata": {},
   "outputs": [],
   "source": [
    "X_train, X_test, y_train, y_test = train_test_split(df['citric acid'], df[\"fixed acidity\"], test_size=0.3, random_state=34)"
   ]
  },
  {
   "cell_type": "code",
   "execution_count": null,
   "metadata": {},
   "outputs": [],
   "source": [
    "# Ml\n",
    "clf = LinearRegression().fit(X_train.values.reshape(-1, 1), y_train.values.reshape(-1, 1))\n",
    "# Predicton with test \n",
    "y_pred = clf.predict(X_test.values.reshape(-1, 1))\n",
    "#Coefficients\n",
    "print(\"Coefficients: \", clf.coef_[0][0])\n",
    "#Mean squared error\n",
    "print(\"Mean squared error: %.2f\" % mean_squared_error(y_test, y_pred))\n",
    "# The coefficient of determination: 1 is perfect prediction\n",
    "print(\"R squared: %.2f\" % r2_score(y_test, y_pred))\n",
    "o =  [\"price\", \"sqft_living\"]\n",
    "#What we have? \n",
    "plt.scatter(X_test, y_test, color=\"green\")\n",
    "plt.plot(X_test,y_pred, color=\"blue\", linewidth=2)\n",
    "\n",
    "plt.xticks(())\n",
    "plt.yticks(())"
   ]
  },
  {
   "cell_type": "code",
   "execution_count": null,
   "metadata": {},
   "outputs": [],
   "source": [
    "from sklearn.svm import LinearSVR\n",
    "from sklearn.svm import SVR"
   ]
  },
  {
   "cell_type": "code",
   "execution_count": null,
   "metadata": {},
   "outputs": [],
   "source": [
    "# svm_linear_SVR = LinearSVR().fit(X_train, y_train)\n",
    "svm_linear_SVR = LinearSVR().fit(X_train.values.reshape(-1, 1), y_train.values.reshape(-1, 1))\n",
    "svm_SVR = SVR().fit(X_train.values.reshape(-1, 1), y_train.values.reshape(-1, 1))\n",
    "# svm_SVR = SVR(kernel=\"linear\").fit(X_train.values.reshape(-1, 1), y_train.values.reshape(-1, 1))\n",
    "# svm_SVR = SVR().fit(X_train, y_train)"
   ]
  },
  {
   "cell_type": "code",
   "execution_count": null,
   "metadata": {},
   "outputs": [],
   "source": [
    "y_pred_linear_SVR = svm_linear_SVR.predict(X_test.values.reshape(-1, 1))\n",
    "y_pred_SVR = svm_SVR.predict(X_test.values.reshape(-1, 1))"
   ]
  },
  {
   "cell_type": "code",
   "execution_count": null,
   "metadata": {},
   "outputs": [],
   "source": [
    "# The coefficient of determination: 1 is perfect prediction\n",
    "from sklearn.metrics import mean_squared_error, r2_score\n",
    "print(\"Linear SVR R squared: %.2f\" % r2_score(y_test,y_pred_linear_SVR))\n",
    "print(\"SVR R squared: %.2f\" % r2_score(y_test, y_pred_SVR))"
   ]
  },
  {
   "cell_type": "code",
   "execution_count": null,
   "metadata": {},
   "outputs": [],
   "source": [
    "plt.scatter(X_test, y_test, color=\"black\")\n",
    "plt.plot(X_test,y_pred_linear_SVR, color=\"blue\", linewidth=3)\n",
    "# plt.plot(X_test.sort_values(),test, color=\"blue\", linewidth=3)\n",
    "plt.plot(X_test,y_pred_SVR, color=\"red\", linewidth=3)\n",
    "\n",
    "plt.xticks(())\n",
    "plt.yticks(())\n",
    "\n",
    "plt.show()"
   ]
  },
  {
   "cell_type": "code",
   "execution_count": null,
   "metadata": {},
   "outputs": [],
   "source": [
    "df_norm = df.copy()\n",
    "df_norm[\"cit_acid\"] = (df_norm['citric acid']-df_norm['citric acid'].min())/(df_norm['citric acid'].max()-df_norm['citric acid'].min())\n",
    "df_norm[\"fix_acid\"] = (df_norm['fixed acidity']-df_norm['fixed acidity'].min())/(df_norm['fixed acidity'].max()-df_norm['fixed acidity'].min())"
   ]
  },
  {
   "cell_type": "code",
   "execution_count": null,
   "metadata": {},
   "outputs": [],
   "source": [
    "df_norm[[\"cit_acid\",\"citric acid\"]]"
   ]
  },
  {
   "cell_type": "code",
   "execution_count": null,
   "metadata": {},
   "outputs": [],
   "source": [
    "from sklearn.preprocessing import StandardScaler\n",
    "\n",
    "sc_X = StandardScaler()\n",
    "sc_y = StandardScaler()\n",
    "X = sc_X.fit_transform(df['citric acid'].values.reshape(-1, 1))\n",
    "y = sc_y.fit_transform(df['fixed acidity'].values.reshape(-1, 1))"
   ]
  },
  {
   "cell_type": "code",
   "execution_count": null,
   "metadata": {},
   "outputs": [],
   "source": [
    "# X_train, X_test, y_train, y_test = train_test_split(df_norm.YE_norm, df_norm.Salary_norm, test_size=0.3, random_state=42)\n",
    "X_train, X_test, y_train, y_test = train_test_split(X, y, test_size=0.3, random_state=42)"
   ]
  },
  {
   "cell_type": "code",
   "execution_count": null,
   "metadata": {},
   "outputs": [],
   "source": [
    "# svm_linear_SVR = LinearSVR().fit(X_train.values.reshape(-1, 1), y_train.values.reshape(-1, 1))\n",
    "# svm_SVR = SVR().fit(X_train.values.reshape(-1, 1), y_train.values.reshape(-1, 1))\n",
    "svm_linear_SVR = LinearSVR().fit(X_train.reshape(-1, 1), y_train.reshape(-1, 1))\n",
    "# svm_SVR = SVR().fit(X_train.reshape(-1, 1), y_train.reshape(-1, 1))\n",
    "# svm_SVR = SVR(C=0.1).fit(X_train, y_train)\n",
    "svm_SVR = SVR().fit(X_train, y_train)"
   ]
  },
  {
   "cell_type": "code",
   "execution_count": null,
   "metadata": {},
   "outputs": [],
   "source": [
    "y_pred_linear_SVR = svm_linear_SVR.predict(X_test)\n",
    "y_pred_SVR = svm_SVR.predict(X_test)"
   ]
  },
  {
   "cell_type": "code",
   "execution_count": null,
   "metadata": {},
   "outputs": [],
   "source": [
    "from sklearn.model_selection import train_test_split\n",
    "X_train, X_test, y_train, y_test = train_test_split(df['citric acid'], df[\"fixed acidity\"], test_size=0.3, random_state=34)"
   ]
  },
  {
   "cell_type": "code",
   "execution_count": null,
   "metadata": {},
   "outputs": [],
   "source": [
    "# The coefficient of determination: 1 is perfect prediction\n",
    "print(\"Linear SVR R squared: %.2f\" % r2_score(y_test,y_pred_linear_SVR))\n",
    "print(\"SVR R squared: %.2f\" % r2_score(y_test, y_pred_SVR))"
   ]
  },
  {
   "cell_type": "code",
   "execution_count": null,
   "metadata": {},
   "outputs": [],
   "source": [
    "XtestSVR = X_test.copy()\n",
    "XtestSVR = np.ravel(XtestSVR)\n",
    "XtestSVR.sort()\n",
    "\n",
    "ypredSVR = y_pred_SVR.copy()\n",
    "ypredSVR.sort()"
   ]
  },
  {
   "cell_type": "code",
   "execution_count": null,
   "metadata": {},
   "outputs": [],
   "source": [
    "plt.scatter(X_test, y_test, color=\"black\")\n",
    "plt.plot(X_test,y_pred_linear_SVR, color=\"blue\", linewidth=3)\n",
    "# plt.plot(X_test.sort_values(),test, color=\"blue\", linewidth=3)\n",
    "plt.plot(XtestSVR,ypredSVR, color=\"red\", linewidth=3)\n",
    "\n",
    "plt.xticks(())\n",
    "plt.yticks(())\n",
    "\n",
    "plt.show()"
   ]
  },
  {
   "cell_type": "code",
   "execution_count": null,
   "metadata": {},
   "outputs": [],
   "source": [
    "from sklearn.tree import DecisionTreeRegressor"
   ]
  },
  {
   "cell_type": "code",
   "execution_count": null,
   "metadata": {},
   "outputs": [],
   "source": [
    "regr_1 = DecisionTreeRegressor(max_depth=2)\n",
    "regr_2 = DecisionTreeRegressor(max_depth=5) # easily can overfit\n",
    "regr_3 = DecisionTreeRegressor(max_depth=8) # easily can overfit\n",
    "regr_1.fit(X_train.values.reshape(-1, 1), y_train.values.reshape(-1, 1))\n",
    "regr_2.fit(X_train.values.reshape(-1, 1), y_train.values.reshape(-1, 1))\n",
    "regr_3.fit(X_train.values.reshape(-1, 1), y_train.values.reshape(-1, 1))\n",
    "\n",
    "# Predict\n",
    "y_1 = regr_1.predict(X_test.values.reshape(-1, 1))\n",
    "y_2 = regr_2.predict(X_test.values.reshape(-1, 1))\n",
    "y_3 = regr_3.predict(X_test.values.reshape(-1, 1))"
   ]
  },
  {
   "cell_type": "code",
   "execution_count": null,
   "metadata": {},
   "outputs": [],
   "source": [
    "X_test.sort_values()\n",
    "y_1.sort()\n",
    "y_2.sort()\n",
    "y_3.sort()"
   ]
  },
  {
   "cell_type": "code",
   "execution_count": null,
   "metadata": {},
   "outputs": [],
   "source": [
    "plt.figure()\n",
    "# plt.scatter(df.YearsExperience, df.Salary, s=20, edgecolor=\"black\", c=\"darkorange\", label=\"data\")\n",
    "# plt.plot(X_test, y_1, color=\"cornflowerblue\", label=\"max_depth=2\", linewidth=2)\n",
    "# plt.plot(X_test, y_2, color=\"yellowgreen\", label=\"max_depth=5\", linewidth=2)\n",
    "plt.scatter(X_test.sort_values(), y_test.sort_values(), s=20, edgecolor=\"black\", c=\"darkorange\", label=\"data\")\n",
    "plt.plot(X_test.sort_values(), y_1, color=\"cornflowerblue\", label=\"max_depth=2\", linewidth=2)\n",
    "plt.plot(X_test.sort_values(), y_2, color=\"yellowgreen\", label=\"max_depth=5\", linewidth=2)\n",
    "plt.plot(X_test.sort_values(), y_3, color=\"red\", label=\"max_depth=8\", linewidth=2)\n",
    "plt.xlabel(\"data\")\n",
    "plt.ylabel(\"target\")\n",
    "plt.title(\"Decision Tree Regression\")\n",
    "plt.legend()\n",
    "plt.show()"
   ]
  },
  {
   "cell_type": "code",
   "execution_count": null,
   "metadata": {},
   "outputs": [],
   "source": [
    "regr_1.feature_importances_"
   ]
  },
  {
   "cell_type": "code",
   "execution_count": null,
   "metadata": {},
   "outputs": [],
   "source": [
    "regr_1.score(X_test.values.reshape(-1, 1), y_test.values.reshape(-1, 1)) # max_depth = 2"
   ]
  },
  {
   "cell_type": "code",
   "execution_count": null,
   "metadata": {},
   "outputs": [],
   "source": [
    "regr_2.score(X_test.values.reshape(-1, 1), y_test.values.reshape(-1, 1)) # max_depth = 5"
   ]
  },
  {
   "cell_type": "code",
   "execution_count": null,
   "metadata": {},
   "outputs": [],
   "source": [
    "regr_3.score(X_test.values.reshape(-1, 1), y_test.values.reshape(-1, 1)) # max_depth = 8"
   ]
  },
  {
   "cell_type": "code",
   "execution_count": null,
   "metadata": {},
   "outputs": [],
   "source": []
  }
 ],
 "metadata": {
  "language_info": {
   "name": "python"
  },
  "orig_nbformat": 4
 },
 "nbformat": 4,
 "nbformat_minor": 2
}
